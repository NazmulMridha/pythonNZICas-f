{
 "cells": [
  {
   "cell_type": "code",
   "execution_count": 3,
   "id": "ebeb378d-540f-4950-81d3-962b71c22b39",
   "metadata": {},
   "outputs": [
    {
     "name": "stdin",
     "output_type": "stream",
     "text": [
      "Enter mass (kg):  50.00\n",
      "Enter velocity (m/s):  15.5\n"
     ]
    },
    {
     "name": "stdout",
     "output_type": "stream",
     "text": [
      "Momentum (e) = 12012.5 kg·m²/s²\n"
     ]
    }
   ],
   "source": [
    "\n",
    "\n",
    "    # Accepting user input for mass (m) in kilograms and velocity (c) in meters per second\n",
    "    m = float(input(\"Enter mass (kg): \"))\n",
    "    c = float(input(\"Enter velocity (m/s): \"))\n",
    "\n",
    "    # Calculate momentum using the formula e = m * c^2\n",
    "    e = m * c**2\n",
    "\n",
    "    # Output: Display the calculated momentum\n",
    "    print(f\"Momentum (e) = {e} kg·m²/s²\")"
   ]
  },
  {
   "cell_type": "code",
   "execution_count": null,
   "id": "f656fd48-2c08-416c-927d-35ada5a212a2",
   "metadata": {},
   "outputs": [],
   "source": []
  }
 ],
 "metadata": {
  "kernelspec": {
   "display_name": "Python [conda env:base] *",
   "language": "python",
   "name": "conda-base-py"
  },
  "language_info": {
   "codemirror_mode": {
    "name": "ipython",
    "version": 3
   },
   "file_extension": ".py",
   "mimetype": "text/x-python",
   "name": "python",
   "nbconvert_exporter": "python",
   "pygments_lexer": "ipython3",
   "version": "3.12.7"
  }
 },
 "nbformat": 4,
 "nbformat_minor": 5
}
